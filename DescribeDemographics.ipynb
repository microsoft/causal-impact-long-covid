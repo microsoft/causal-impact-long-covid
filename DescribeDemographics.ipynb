{
 "cells": [
  {
   "cell_type": "code",
   "execution_count": null,
   "metadata": {},
   "outputs": [],
   "source": [
    "# Copyright (c) Microsoft Corporation. All rights reserved.\n",
    "# Licensed under the MIT License."
   ]
  },
  {
   "cell_type": "code",
   "execution_count": 165,
   "metadata": {},
   "outputs": [],
   "source": [
    "import numpy as np\n",
    "import pandas as pd\n",
    "import csv, math\n",
    "\n",
    "%matplotlib inline\n",
    "import matplotlib.pyplot as plt\n",
    "import seaborn as sns\n",
    "import scipy.stats as stats "
   ]
  },
  {
   "cell_type": "code",
   "execution_count": 185,
   "metadata": {},
   "outputs": [],
   "source": [
    "demo = pd.read_csv('data/NolongCOVID_studypop_plan.csv')"
   ]
  },
  {
   "cell_type": "code",
   "execution_count": 173,
   "metadata": {},
   "outputs": [
    {
     "data": {
      "text/html": [
       "<div>\n",
       "<style scoped>\n",
       "    .dataframe tbody tr th:only-of-type {\n",
       "        vertical-align: middle;\n",
       "    }\n",
       "\n",
       "    .dataframe tbody tr th {\n",
       "        vertical-align: top;\n",
       "    }\n",
       "\n",
       "    .dataframe thead th {\n",
       "        text-align: right;\n",
       "    }\n",
       "</style>\n",
       "<table border=\"1\" class=\"dataframe\">\n",
       "  <thead>\n",
       "    <tr style=\"text-align: right;\">\n",
       "      <th></th>\n",
       "      <th>PatientId</th>\n",
       "      <th>Class</th>\n",
       "    </tr>\n",
       "  </thead>\n",
       "  <tbody>\n",
       "    <tr>\n",
       "      <th>0</th>\n",
       "      <td>293272|CHN|Intergy.HCN</td>\n",
       "      <td>Medicaid</td>\n",
       "    </tr>\n",
       "    <tr>\n",
       "      <th>1</th>\n",
       "      <td>80167|BAHC|Intergy.HCN</td>\n",
       "      <td>Private Insurance</td>\n",
       "    </tr>\n",
       "    <tr>\n",
       "      <th>2</th>\n",
       "      <td>80167|BAHC|Intergy.HCN</td>\n",
       "      <td>Medicare</td>\n",
       "    </tr>\n",
       "    <tr>\n",
       "      <th>3</th>\n",
       "      <td>81486|BAHC|Intergy.HCN</td>\n",
       "      <td>Medicaid</td>\n",
       "    </tr>\n",
       "    <tr>\n",
       "      <th>4</th>\n",
       "      <td>81486|BAHC|Intergy.HCN</td>\n",
       "      <td>Private Insurance</td>\n",
       "    </tr>\n",
       "    <tr>\n",
       "      <th>...</th>\n",
       "      <td>...</td>\n",
       "      <td>...</td>\n",
       "    </tr>\n",
       "    <tr>\n",
       "      <th>35602</th>\n",
       "      <td>1704|PKMQ|Intergy.HCN</td>\n",
       "      <td>Medicaid</td>\n",
       "    </tr>\n",
       "    <tr>\n",
       "      <th>35603</th>\n",
       "      <td>41927|PKMQ|Intergy.HCN</td>\n",
       "      <td>Medicare</td>\n",
       "    </tr>\n",
       "    <tr>\n",
       "      <th>35604</th>\n",
       "      <td>13052|PKMQ|Intergy.HCN</td>\n",
       "      <td>Medicaid</td>\n",
       "    </tr>\n",
       "    <tr>\n",
       "      <th>35605</th>\n",
       "      <td>50341|PKMQ|Intergy.HCN</td>\n",
       "      <td>Medicaid</td>\n",
       "    </tr>\n",
       "    <tr>\n",
       "      <th>35606</th>\n",
       "      <td>43865|PKMQ|Intergy.HCN</td>\n",
       "      <td>Medicaid</td>\n",
       "    </tr>\n",
       "  </tbody>\n",
       "</table>\n",
       "<p>35607 rows × 2 columns</p>\n",
       "</div>"
      ],
      "text/plain": [
       "                    PatientId              Class\n",
       "0      293272|CHN|Intergy.HCN           Medicaid\n",
       "1      80167|BAHC|Intergy.HCN  Private Insurance\n",
       "2      80167|BAHC|Intergy.HCN           Medicare\n",
       "3      81486|BAHC|Intergy.HCN           Medicaid\n",
       "4      81486|BAHC|Intergy.HCN  Private Insurance\n",
       "...                       ...                ...\n",
       "35602   1704|PKMQ|Intergy.HCN           Medicaid\n",
       "35603  41927|PKMQ|Intergy.HCN           Medicare\n",
       "35604  13052|PKMQ|Intergy.HCN           Medicaid\n",
       "35605  50341|PKMQ|Intergy.HCN           Medicaid\n",
       "35606  43865|PKMQ|Intergy.HCN           Medicaid\n",
       "\n",
       "[35607 rows x 2 columns]"
      ]
     },
     "execution_count": 173,
     "metadata": {},
     "output_type": "execute_result"
    }
   ],
   "source": [
    "demo"
   ]
  },
  {
   "cell_type": "code",
   "execution_count": 186,
   "metadata": {},
   "outputs": [
    {
     "name": "stdout",
     "output_type": "stream",
     "text": [
      "[0.8779117406063445, 24.86831323890905, 7.807561746459089, 66.44621327402552, 0.0]\n"
     ]
    }
   ],
   "source": [
    "## Age\n",
    "demo.Class.value_counts() \n",
    "a0 = len(demo[demo['Class']=='Self'])/len(demo)\n",
    "a1 = len(demo[demo['Class']=='Medicaid'])/len(demo)\n",
    "a2 = len(demo[demo['Class']=='Medicare'])/len(demo)\n",
    "a3 = (len(demo[demo['Class']=='Other']) + len(demo[demo['Class']=='Private Insurance']))/len(demo)\n",
    "a4 = 1 - (a0+a1+a2+a3)\n",
    "print([100*a0, 100*a1, 100*a2, 100*a3, 100*a4])"
   ]
  },
  {
   "cell_type": "code",
   "execution_count": 151,
   "metadata": {},
   "outputs": [],
   "source": [
    "a1 = len(demo[demo['Age']<18])\n",
    "a2 = len(demo[demo['Age']<25]) - a1\n",
    "a3 = len(demo[demo['Age']<35]) - a1 -a2\n",
    "a4 = len(demo[demo['Age']<45]) - a1 -a2 -a3\n",
    "a5 = len(demo[demo['Age']<55]) - a1 -a2 -a3 -a4\n",
    "a6 = len(demo[demo['Age']<65]) - a1 -a2 -a3 -a4 -a5\n",
    "a7 = len(demo[demo['Age']>65])\n",
    "a8 = len(demo) - sum(np.array([a1, a2, a3, a4, a5, a6, a7]))\n",
    "A = np.array([a1, a2, a3, a4, a5, a6, a7, a8])\n",
    "\n",
    "A_pct = 100*A/sum(A)"
   ]
  },
  {
   "cell_type": "code",
   "execution_count": 152,
   "metadata": {},
   "outputs": [
    {
     "data": {
      "text/plain": [
       "(array([589, 281, 583, 567, 572, 544, 225,   0]),\n",
       " array([17.52454627,  8.36060696, 17.34602797, 16.86997917, 17.01874442,\n",
       "        16.18565903,  6.69443618,  0.        ]))"
      ]
     },
     "execution_count": 152,
     "metadata": {},
     "output_type": "execute_result"
    }
   ],
   "source": [
    "A, A_pct"
   ]
  },
  {
   "cell_type": "code",
   "execution_count": 22,
   "metadata": {},
   "outputs": [],
   "source": [
    "\n",
    "aa = np.array([15.79, 7.60, 16.18, 16.35, 16.77, 15.30, 6.26, 5.75])\n"
   ]
  },
  {
   "cell_type": "code",
   "execution_count": 88,
   "metadata": {},
   "outputs": [
    {
     "data": {
      "text/plain": [
       "F    24292\n",
       "M    14193\n",
       "U       36\n",
       "        12\n",
       "Name: Sex, dtype: int64"
      ]
     },
     "execution_count": 88,
     "metadata": {},
     "output_type": "execute_result"
    }
   ],
   "source": [
    "## Gender\n",
    "demo.Sex.value_counts()"
   ]
  },
  {
   "cell_type": "code",
   "execution_count": 153,
   "metadata": {},
   "outputs": [],
   "source": [
    "g1 = len(demo[demo['Sex']=='F'])\n",
    "g2= len(demo[demo['Sex']=='M'])\n",
    "g3 = len(demo) - g1 -g2\n",
    "G = np.array([g1, g2, g3])\n",
    "             \n",
    "G_pct = 100*G/sum(G)"
   ]
  },
  {
   "cell_type": "code",
   "execution_count": 154,
   "metadata": {},
   "outputs": [
    {
     "data": {
      "text/plain": [
       "array([2231, 1129,    1])"
      ]
     },
     "execution_count": 154,
     "metadata": {},
     "output_type": "execute_result"
    }
   ],
   "source": [
    "G"
   ]
  },
  {
   "cell_type": "code",
   "execution_count": 155,
   "metadata": {},
   "outputs": [
    {
     "data": {
      "text/plain": [
       "array([6.63790539e+01, 3.35911931e+01, 2.97530497e-02])"
      ]
     },
     "execution_count": 155,
     "metadata": {},
     "output_type": "execute_result"
    }
   ],
   "source": [
    "G_pct"
   ]
  },
  {
   "cell_type": "code",
   "execution_count": 156,
   "metadata": {},
   "outputs": [
    {
     "name": "stdout",
     "output_type": "stream",
     "text": [
      "3361\n"
     ]
    }
   ],
   "source": [
    "r_w = len(demo[(demo['RaceCode']=='C') & (demo['EthnicityCode']=='N') ])\n",
    "r_b= len(demo[(demo['RaceCode']=='B')  & (demo['EthnicityCode']=='N')])\n",
    "r_h= len(demo[demo['EthnicityCode']=='L'])\n",
    "r_na= len(demo[demo['RaceCode']=='I'])\n",
    "r_a= len(demo[demo['RaceCode']=='A'])\n",
    "r_p= len(demo[demo['RaceCode']=='P'])\n",
    "r_m= len(demo[demo['RaceCode']=='M'])\n",
    "r_other = r_na + r_a + r_p   + r_m\n",
    "r_u = len(demo) - sum([r_w , r_b, r_h, r_other])\n",
    "\n",
    "R = np.array([r_w , r_b, r_h, r_other, r_u])\n",
    "print(sum(R))\n",
    "             \n",
    "R_pct = 100*R/sum(R)"
   ]
  },
  {
   "cell_type": "code",
   "execution_count": 157,
   "metadata": {},
   "outputs": [
    {
     "data": {
      "text/plain": [
       "array([ 247,  604, 2291,  187,   32])"
      ]
     },
     "execution_count": 157,
     "metadata": {},
     "output_type": "execute_result"
    }
   ],
   "source": [
    "R"
   ]
  },
  {
   "cell_type": "code",
   "execution_count": 158,
   "metadata": {},
   "outputs": [
    {
     "data": {
      "text/plain": [
       "array([ 7.34900327, 17.97084201, 68.16423683,  5.56382029,  0.95209759])"
      ]
     },
     "execution_count": 158,
     "metadata": {},
     "output_type": "execute_result"
    }
   ],
   "source": [
    "R_pct"
   ]
  },
  {
   "cell_type": "code",
   "execution_count": 46,
   "metadata": {},
   "outputs": [],
   "source": [
    "# Eth\n",
    "\n",
    "g1 = len(demo[demo['EthnicityCode']=='L'])\n",
    "g2= len(demo[demo['EthnicityCode']=='N'])\n",
    "g3 = 4091 - g1 -g2\n",
    "G = np.array([g1, g2, g3])\n",
    "             \n",
    "G_pct = 100*G/sum(G)"
   ]
  },
  {
   "cell_type": "code",
   "execution_count": 47,
   "metadata": {},
   "outputs": [
    {
     "data": {
      "text/plain": [
       "array([2645, 1088,  358])"
      ]
     },
     "execution_count": 47,
     "metadata": {},
     "output_type": "execute_result"
    }
   ],
   "source": [
    "G"
   ]
  },
  {
   "cell_type": "code",
   "execution_count": 48,
   "metadata": {},
   "outputs": [
    {
     "data": {
      "text/plain": [
       "array([64.6541188 , 26.59496456,  8.75091665])"
      ]
     },
     "execution_count": 48,
     "metadata": {},
     "output_type": "execute_result"
    }
   ],
   "source": [
    "G_pct"
   ]
  },
  {
   "cell_type": "code",
   "execution_count": 159,
   "metadata": {},
   "outputs": [],
   "source": [
    "a0 = len(demo[demo['NumberSupported']==0])\n",
    "a1 = len(demo[demo['NumberSupported']==1])\n",
    "a2 = len(demo[demo['NumberSupported']==2]) \n",
    "a12 = a1 +a2\n",
    "a3 = len(demo[demo['NumberSupported']==3])\n",
    "a4 = len(demo[demo['NumberSupported']==4])\n",
    "a34 = a3+a4\n",
    "a5m = len(demo[demo['NumberSupported'] > 5]) \n",
    "\n",
    "au = len(demo) - (a0 + a12 + a34 + a5m)\n",
    "\n",
    "A = np.array([a0, a12, a34, a5m, au])\n",
    "A_pct = 100*A/sum(A)"
   ]
  },
  {
   "cell_type": "code",
   "execution_count": 160,
   "metadata": {},
   "outputs": [
    {
     "data": {
      "text/plain": [
       "array([ 835, 1142,  910,  185,  289])"
      ]
     },
     "execution_count": 160,
     "metadata": {},
     "output_type": "execute_result"
    }
   ],
   "source": [
    "A"
   ]
  },
  {
   "cell_type": "code",
   "execution_count": 161,
   "metadata": {},
   "outputs": [
    {
     "data": {
      "text/plain": [
       "array([24.84379649, 33.97798274, 27.07527522,  5.50431419,  8.59863136])"
      ]
     },
     "execution_count": 161,
     "metadata": {},
     "output_type": "execute_result"
    }
   ],
   "source": [
    "A_pct"
   ]
  },
  {
   "cell_type": "code",
   "execution_count": 111,
   "metadata": {},
   "outputs": [
    {
     "data": {
      "text/plain": [
       "100.0"
      ]
     },
     "execution_count": 111,
     "metadata": {},
     "output_type": "execute_result"
    }
   ],
   "source": [
    "22.51+32.51+25.96+5.26+13.76"
   ]
  },
  {
   "cell_type": "code",
   "execution_count": 162,
   "metadata": {},
   "outputs": [],
   "source": [
    "a1 = len(demo[demo['PovertyPercent']<=100])\n",
    "a14 = len(demo[demo['PovertyPercent']<400]) - a1\n",
    "a4 = len(demo[demo['PovertyPercent']>=400]) \n",
    "a0 = len(demo[demo['PovertyPercent']==0]) \n",
    "au = len(demo) - (a1 + a14 + a4)\n",
    "\n",
    "A = np.array([a1, a14, a4, au])\n",
    "A_pct = 100*A/sum(A)"
   ]
  },
  {
   "cell_type": "code",
   "execution_count": 163,
   "metadata": {},
   "outputs": [
    {
     "data": {
      "text/plain": [
       "array([2704,  610,   47,    0])"
      ]
     },
     "execution_count": 163,
     "metadata": {},
     "output_type": "execute_result"
    }
   ],
   "source": [
    "A"
   ]
  },
  {
   "cell_type": "code",
   "execution_count": 164,
   "metadata": {},
   "outputs": [
    {
     "data": {
      "text/plain": [
       "array([80.45224636, 18.14936031,  1.39839334,  0.        ])"
      ]
     },
     "execution_count": 164,
     "metadata": {},
     "output_type": "execute_result"
    }
   ],
   "source": [
    "A_pct"
   ]
  }
 ],
 "metadata": {
  "kernelspec": {
   "display_name": "Python 3.9.7 64-bit",
   "language": "python",
   "name": "python3"
  },
  "language_info": {
   "codemirror_mode": {
    "name": "ipython",
    "version": 3
   },
   "file_extension": ".py",
   "mimetype": "text/x-python",
   "name": "python",
   "nbconvert_exporter": "python",
   "pygments_lexer": "ipython3",
   "version": "3.9.7"
  },
  "vscode": {
   "interpreter": {
    "hash": "c347c8f9a7ef94e4c9e03b4513be7835ed18f45b99a2a817fb579f408b867b16"
   }
  }
 },
 "nbformat": 4,
 "nbformat_minor": 4
}
